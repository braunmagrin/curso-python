{
 "cells": [
  {
   "cell_type": "markdown",
   "metadata": {
    "slideshow": {
     "slide_type": "slide"
    }
   },
   "source": [
    "# Natal Solidário Floripa TI\n",
    "\n",
    "# **Primeiros passos com Python**\n",
    "Matheus Braun Magrin\n",
    "\n",
    "[braunmagrin@gmail.com](mailto:braunmagrin@gmail.com)\n",
    "\n",
    "09 de Dezembro de 2016"
   ]
  },
  {
   "cell_type": "markdown",
   "metadata": {
    "slideshow": {
     "slide_type": "slide"
    }
   },
   "source": [
    "# Python e eu\n",
    "\n",
    "- Me chamo **Matheus Braun Magrin**\n",
    "- Fiz **Ciência da Computação** na UFSC\n",
    "- Trabalho como **Cientista de dados na Bravi**\n",
    "- **2+ anos trabalhando com Python** (5+ anos usando)"
   ]
  },
  {
   "cell_type": "markdown",
   "metadata": {
    "slideshow": {
     "slide_type": "subslide"
    }
   },
   "source": [
    "# Por que Python?\n",
    "\n",
    "Python é uma linguagem **simples**, **bonita** e de **fácil aprendizado**  que se presta as mais diversas tarefas, desde **scripts para automação** de tarefas do dia a dia, à **computação científica**, passando por **desenvolvimento Web** e **análise de dados**.\n",
    "\n",
    "É **software livre** e é **gratuita** ;)"
   ]
  },
  {
   "cell_type": "code",
   "execution_count": null,
   "metadata": {
    "collapsed": true,
    "slideshow": {
     "slide_type": "skip"
    }
   },
   "outputs": [],
   "source": []
  },
  {
   "cell_type": "markdown",
   "metadata": {
    "slideshow": {
     "slide_type": "slide"
    }
   },
   "source": [
    "# Conhecendo a linguagem\n",
    "\n",
    "- Alto nível\n",
    "- Interpretada\n",
    "- Tipagem dinâmica"
   ]
  },
  {
   "cell_type": "code",
   "execution_count": 1,
   "metadata": {
    "collapsed": true,
    "slideshow": {
     "slide_type": "fragment"
    }
   },
   "outputs": [],
   "source": [
    "import random\n",
    "z = random.choice(['aha', 1])"
   ]
  },
  {
   "cell_type": "markdown",
   "metadata": {
    "collapsed": true,
    "slideshow": {
     "slide_type": "subslide"
    }
   },
   "source": [
    "# Conhecendo a linguagem\n",
    "\n",
    "- Alto nível\n",
    "- Interpretada\n",
    "- Tipagem dinâmica\n",
    "- Multi paradigma\n",
    "    - Orientada a objetos"
   ]
  },
  {
   "cell_type": "code",
   "execution_count": 2,
   "metadata": {
    "collapsed": false,
    "slideshow": {
     "slide_type": "fragment"
    }
   },
   "outputs": [
    {
     "data": {
      "text/plain": [
       "__main__.MinhaClasse"
      ]
     },
     "execution_count": 2,
     "metadata": {},
     "output_type": "execute_result"
    }
   ],
   "source": [
    "class MinhaClasse:\n",
    "    pass\n",
    "\n",
    "obj = MinhaClasse()\n",
    "type(obj)"
   ]
  },
  {
   "cell_type": "markdown",
   "metadata": {
    "collapsed": true,
    "slideshow": {
     "slide_type": "subslide"
    }
   },
   "source": [
    "# Conhecendo a linguagem\n",
    "\n",
    "- Alto nível\n",
    "- Interpretada\n",
    "- Tipagem dinâmica\n",
    "- Multi paradigma\n",
    "    - Orientada a objetos\n",
    "    - Funcional\n"
   ]
  },
  {
   "cell_type": "code",
   "execution_count": 3,
   "metadata": {
    "collapsed": false,
    "slideshow": {
     "slide_type": "fragment"
    }
   },
   "outputs": [
    {
     "data": {
      "text/plain": [
       "2"
      ]
     },
     "execution_count": 3,
     "metadata": {},
     "output_type": "execute_result"
    }
   ],
   "source": [
    "# functools: Higher-order functions and operations on callable objects\n",
    "import functools\n",
    "add = lambda x,y: x + y\n",
    "add_one = functools.partial(add, 1)\n",
    "\n",
    "add_one(1)\n"
   ]
  },
  {
   "cell_type": "code",
   "execution_count": null,
   "metadata": {
    "collapsed": false,
    "slideshow": {
     "slide_type": "fragment"
    }
   },
   "outputs": [],
   "source": [
    "functools.reduce(f3, filter(f2, map(f1, sequence)))"
   ]
  },
  {
   "cell_type": "markdown",
   "metadata": {
    "slideshow": {
     "slide_type": "subslide"
    }
   },
   "source": [
    "# Conhecendo a linguagem\n",
    "\n",
    "## Filosofia"
   ]
  },
  {
   "cell_type": "code",
   "execution_count": 4,
   "metadata": {
    "collapsed": false,
    "slideshow": {
     "slide_type": "fragment"
    }
   },
   "outputs": [
    {
     "name": "stdout",
     "output_type": "stream",
     "text": [
      "The Zen of Python, by Tim Peters\n",
      "\n",
      "Beautiful is better than ugly.\n",
      "Explicit is better than implicit.\n",
      "Simple is better than complex.\n",
      "Complex is better than complicated.\n",
      "Flat is better than nested.\n",
      "Sparse is better than dense.\n",
      "Readability counts.\n",
      "Special cases aren't special enough to break the rules.\n",
      "Although practicality beats purity.\n",
      "Errors should never pass silently.\n",
      "Unless explicitly silenced.\n",
      "In the face of ambiguity, refuse the temptation to guess.\n",
      "There should be one-- and preferably only one --obvious way to do it.\n",
      "Although that way may not be obvious at first unless you're Dutch.\n",
      "Now is better than never.\n",
      "Although never is often better than *right* now.\n",
      "If the implementation is hard to explain, it's a bad idea.\n",
      "If the implementation is easy to explain, it may be a good idea.\n",
      "Namespaces are one honking great idea -- let's do more of those!\n"
     ]
    }
   ],
   "source": [
    "import this"
   ]
  },
  {
   "cell_type": "markdown",
   "metadata": {
    "collapsed": true,
    "slideshow": {
     "slide_type": "subslide"
    }
   },
   "source": [
    "Se tudo isso parece um pouco obscuro, dê uma olhada [nessa apresentação](http://artifex.org/~hblanks/talks/2011/pep20_by_example.pdf).\n",
    "\n",
    "Eles mostram exemplos do que fazer e não fazer segundo esses princípios para ter um código melhor."
   ]
  },
  {
   "cell_type": "markdown",
   "metadata": {
    "slideshow": {
     "slide_type": "subslide"
    }
   },
   "source": [
    "# Comunidade\n",
    "\n",
    "- Comunidade extremamente receptiva\n",
    "- https://wiki.python.org/moin/DiversityInPython\n",
    "\n",
    "<center>\n",
    "<blockquote class=\"twitter-tweet\" data-lang=\"en\"><p lang=\"pt\" dir=\"ltr\">Resumo da minha <a href=\"https://twitter.com/pythonbrasil\">@pythonbrasil</a> e de minha semana em Florianópolis <a href=\"https://twitter.com/hashtag/pybr12?src=hash\">#pybr12</a> <a href=\"https://twitter.com/hashtag/oktoberpython?src=hash\">#oktoberpython</a> num sticker muito bem bolado <a href=\"https://t.co/gNyzWIH6Wa\">pic.twitter.com/gNyzWIH6Wa</a></p>&mdash; Fernando Masanori (@fmasanori) <a href=\"https://twitter.com/fmasanori/status/788725570909659136\">October 19, 2016</a></blockquote>\n",
    "<script async src=\"//platform.twitter.com/widgets.js\" charset=\"utf-8\"></script>\n",
    "</center>"
   ]
  },
  {
   "cell_type": "markdown",
   "metadata": {
    "slideshow": {
     "slide_type": "slide"
    }
   },
   "source": [
    "# Antes de começarmos com a sintaxe\n",
    "Algumas coisas a se ter em mente:\n",
    "- Indentação importa!"
   ]
  },
  {
   "cell_type": "code",
   "execution_count": 3,
   "metadata": {
    "collapsed": false,
    "slideshow": {
     "slide_type": "fragment"
    }
   },
   "outputs": [
    {
     "ename": "IndentationError",
     "evalue": "unindent does not match any outer indentation level (<ipython-input-3-7cc0734440fd>, line 3)",
     "output_type": "error",
     "traceback": [
      "\u001b[0;36m  File \u001b[0;32m\"<ipython-input-3-7cc0734440fd>\"\u001b[0;36m, line \u001b[0;32m3\u001b[0m\n\u001b[0;31m    return a\u001b[0m\n\u001b[0m            ^\u001b[0m\n\u001b[0;31mIndentationError\u001b[0m\u001b[0;31m:\u001b[0m unindent does not match any outer indentation level\n"
     ]
    }
   ],
   "source": [
    "def f(x):\n",
    "    value = x * 5\n",
    "  return value"
   ]
  },
  {
   "cell_type": "markdown",
   "metadata": {
    "slideshow": {
     "slide_type": "subslide"
    }
   },
   "source": [
    "# Antes de começarmos com a sintaxe\n",
    "Algumas coisas a se ter em mente:\n",
    "- Indentação importa!\n",
    "- Tudo é objeto"
   ]
  },
  {
   "cell_type": "code",
   "execution_count": 7,
   "metadata": {
    "collapsed": false,
    "slideshow": {
     "slide_type": "fragment"
    }
   },
   "outputs": [
    {
     "data": {
      "text/plain": [
       "8"
      ]
     },
     "execution_count": 7,
     "metadata": {},
     "output_type": "execute_result"
    }
   ],
   "source": [
    "i = 6\n",
    "i.__add__(2)"
   ]
  },
  {
   "cell_type": "code",
   "execution_count": 8,
   "metadata": {
    "collapsed": false,
    "slideshow": {
     "slide_type": "fragment"
    }
   },
   "outputs": [
    {
     "data": {
      "text/plain": [
       "<method-wrapper '__add__' of int object at 0x9a3480>"
      ]
     },
     "execution_count": 8,
     "metadata": {},
     "output_type": "execute_result"
    }
   ],
   "source": [
    "i.__add__"
   ]
  },
  {
   "cell_type": "markdown",
   "metadata": {
    "slideshow": {
     "slide_type": "slide"
    }
   },
   "source": [
    "# Tipos básicos\n",
    "- Números"
   ]
  },
  {
   "cell_type": "code",
   "execution_count": 5,
   "metadata": {
    "collapsed": true,
    "slideshow": {
     "slide_type": "-"
    }
   },
   "outputs": [],
   "source": [
    "i = 1 # int\n",
    "f = .5 # float"
   ]
  },
  {
   "cell_type": "markdown",
   "metadata": {
    "slideshow": {
     "slide_type": "subslide"
    }
   },
   "source": [
    "# Tipos básicos\n",
    "- Números\n",
    "- Strings"
   ]
  },
  {
   "cell_type": "code",
   "execution_count": 6,
   "metadata": {
    "collapsed": true,
    "slideshow": {
     "slide_type": "-"
    }
   },
   "outputs": [],
   "source": [
    "s = 'a' # str\n",
    "s = 'aha' # str"
   ]
  },
  {
   "cell_type": "markdown",
   "metadata": {
    "slideshow": {
     "slide_type": "subslide"
    }
   },
   "source": [
    "# Tipos básicos\n",
    "- Números\n",
    "- Strings\n",
    "- Booleanos"
   ]
  },
  {
   "cell_type": "code",
   "execution_count": 7,
   "metadata": {
    "collapsed": true,
    "slideshow": {
     "slide_type": "-"
    }
   },
   "outputs": [],
   "source": [
    "b = False # bool\n",
    "b = True # bool"
   ]
  },
  {
   "cell_type": "markdown",
   "metadata": {
    "slideshow": {
     "slide_type": "subslide"
    }
   },
   "source": [
    "# Tipos básicos\n",
    "- Números\n",
    "- Strings\n",
    "- Booleanos\n",
    "- None"
   ]
  },
  {
   "cell_type": "code",
   "execution_count": 60,
   "metadata": {
    "collapsed": false
   },
   "outputs": [
    {
     "data": {
      "text/plain": [
       "NoneType"
      ]
     },
     "execution_count": 60,
     "metadata": {},
     "output_type": "execute_result"
    }
   ],
   "source": [
    "n = None\n",
    "type(n)"
   ]
  },
  {
   "cell_type": "markdown",
   "metadata": {
    "slideshow": {
     "slide_type": "slide"
    }
   },
   "source": [
    "# Operadores\n",
    "\n",
    "Vou listar aqui apenas os que são diferentes de linguagens como Java, C#:\n",
    "\n",
    "- Lógicos: `and`, `or`, `not`\n",
    "- Identidade: `is`, `is not`\n",
    "- Pertencimento: `in`, `not in`"
   ]
  },
  {
   "cell_type": "markdown",
   "metadata": {
    "slideshow": {
     "slide_type": "skip"
    }
   },
   "source": [
    "- Matemáticos: `+`, `-`, `/`, `//`, `*`, `**`, `%`\n",
    "- Com atribuição: `+=`, `-=`,  `*=`\n",
    "- Comparação: `<`, `<=`, `==`, `!=`, `>=`, `>`\n",
    "- Lógicos: `and`, `or`, `not`\n",
    "- Identidade: `is`, `is not`\n",
    "- Pertencimento: `in`, `not in`\n",
    "- Bitwise: `|`, `&`, `^`"
   ]
  },
  {
   "cell_type": "code",
   "execution_count": null,
   "metadata": {
    "collapsed": true,
    "slideshow": {
     "slide_type": "fragment"
    }
   },
   "outputs": [],
   "source": [
    "if item not in sequence:\n",
    "    do_something_about_it()\n",
    "\n",
    "if obj is not None:\n",
    "    do_something_about_it()"
   ]
  },
  {
   "cell_type": "code",
   "execution_count": 53,
   "metadata": {
    "collapsed": true,
    "slideshow": {
     "slide_type": "skip"
    }
   },
   "outputs": [],
   "source": [
    "show_public_attributes = lambda x: ', '.join([x for x in dir(x) if not x.startswith('_')])"
   ]
  },
  {
   "cell_type": "markdown",
   "metadata": {
    "slideshow": {
     "slide_type": "slide"
    }
   },
   "source": [
    "# Estruturas de dados\n",
    "- Lista"
   ]
  },
  {
   "cell_type": "code",
   "execution_count": 8,
   "metadata": {
    "collapsed": true,
    "slideshow": {
     "slide_type": "fragment"
    }
   },
   "outputs": [],
   "source": [
    "l = [] # list()\n",
    "l = ['aha', 6, []]\n",
    "l.append(1) # mutável"
   ]
  },
  {
   "cell_type": "code",
   "execution_count": 54,
   "metadata": {
    "collapsed": false,
    "slideshow": {
     "slide_type": "fragment"
    }
   },
   "outputs": [
    {
     "data": {
      "text/plain": [
       "'append, clear, copy, count, extend, index, insert, pop, remove, reverse, sort'"
      ]
     },
     "execution_count": 54,
     "metadata": {},
     "output_type": "execute_result"
    }
   ],
   "source": [
    "show_public_attributes(list)"
   ]
  },
  {
   "cell_type": "markdown",
   "metadata": {
    "slideshow": {
     "slide_type": "subslide"
    }
   },
   "source": [
    "# Estruturas de dados\n",
    "- Lista\n",
    "- Tupla"
   ]
  },
  {
   "cell_type": "code",
   "execution_count": 9,
   "metadata": {
    "collapsed": true,
    "slideshow": {
     "slide_type": "-"
    }
   },
   "outputs": [],
   "source": [
    "t = (1, 2) # imutável"
   ]
  },
  {
   "cell_type": "markdown",
   "metadata": {
    "slideshow": {
     "slide_type": "subslide"
    }
   },
   "source": [
    "# Estruturas de dados\n",
    "- Lista\n",
    "- Tupla\n",
    "- Dicionário"
   ]
  },
  {
   "cell_type": "code",
   "execution_count": 10,
   "metadata": {
    "collapsed": true,
    "slideshow": {
     "slide_type": "-"
    }
   },
   "outputs": [],
   "source": [
    "d = {} # dict()\n",
    "d = {'aha': 1, 'uhu': 6}\n",
    "d['ehe'] = 8 # mutável"
   ]
  },
  {
   "cell_type": "code",
   "execution_count": 55,
   "metadata": {
    "collapsed": false,
    "slideshow": {
     "slide_type": "fragment"
    }
   },
   "outputs": [
    {
     "data": {
      "text/plain": [
       "'clear, copy, fromkeys, get, items, keys, pop, popitem, setdefault, update, values'"
      ]
     },
     "execution_count": 55,
     "metadata": {},
     "output_type": "execute_result"
    }
   ],
   "source": [
    "show_public_attributes(dict)"
   ]
  },
  {
   "cell_type": "markdown",
   "metadata": {
    "slideshow": {
     "slide_type": "subslide"
    }
   },
   "source": [
    "# Estruturas de dados\n",
    "- Lista\n",
    "- Tupla\n",
    "- Dicionário\n",
    "- Conjunto (_aquele da matemática mesmo_)"
   ]
  },
  {
   "cell_type": "code",
   "execution_count": 43,
   "metadata": {
    "collapsed": false,
    "slideshow": {
     "slide_type": "-"
    }
   },
   "outputs": [
    {
     "data": {
      "text/plain": [
       "{1, 2, 3}"
      ]
     },
     "execution_count": 43,
     "metadata": {},
     "output_type": "execute_result"
    }
   ],
   "source": [
    "set([1, 1, 1, 2, 2, 3])"
   ]
  },
  {
   "cell_type": "code",
   "execution_count": 57,
   "metadata": {
    "collapsed": false,
    "slideshow": {
     "slide_type": "fragment"
    }
   },
   "outputs": [
    {
     "data": {
      "text/plain": [
       "'add, clear, copy, difference, difference_update, discard, intersection, intersection_update, isdisjoint, issubset, issuperset, pop, remove, symmetric_difference, symmetric_difference_update, union, update'"
      ]
     },
     "execution_count": 57,
     "metadata": {},
     "output_type": "execute_result"
    }
   ],
   "source": [
    "show_public_attributes(set)"
   ]
  },
  {
   "cell_type": "markdown",
   "metadata": {
    "slideshow": {
     "slide_type": "slide"
    }
   },
   "source": [
    "# Formatando strings\n",
    "\n",
    "É possível usar variáveis do nosso programa para montar strings.\n",
    "\n",
    "Exemplos:"
   ]
  },
  {
   "cell_type": "code",
   "execution_count": 5,
   "metadata": {
    "collapsed": false,
    "slideshow": {
     "slide_type": "-"
    }
   },
   "outputs": [
    {
     "name": "stdout",
     "output_type": "stream",
     "text": [
      "Essa lista tem 4 items\n"
     ]
    }
   ],
   "source": [
    "lista = [1, 2, 3, 4]\n",
    "print('Essa lista tem {} items'.format(len(lista)))"
   ]
  },
  {
   "cell_type": "code",
   "execution_count": 10,
   "metadata": {
    "collapsed": false,
    "slideshow": {
     "slide_type": "fragment"
    }
   },
   "outputs": [
    {
     "name": "stdout",
     "output_type": "stream",
     "text": [
      "Vamos ver PI com apenas 4 casas decimais: 3.1416\n"
     ]
    }
   ],
   "source": [
    "from math import pi\n",
    "print('Vamos ver PI com apenas 4 casas decimais: {:.4f}'.format(pi)) # limita as casas decimais"
   ]
  },
  {
   "cell_type": "markdown",
   "metadata": {
    "slideshow": {
     "slide_type": "fragment"
    }
   },
   "source": [
    "Muitos outros exemplos em: https://pyformat.info/"
   ]
  },
  {
   "cell_type": "markdown",
   "metadata": {
    "slideshow": {
     "slide_type": "slide"
    }
   },
   "source": [
    "# Fatiando sequências (_Slicing_)\n",
    "\n",
    "É possível pegar partes de um sequência com a seguinte sintaxe:\n",
    "```\n",
    "sequencia[inicio:fim:passo]\n",
    "```\n",
    "\n",
    "Alguns exemplos:"
   ]
  },
  {
   "cell_type": "code",
   "execution_count": 14,
   "metadata": {
    "collapsed": false,
    "slideshow": {
     "slide_type": "fragment"
    }
   },
   "outputs": [
    {
     "data": {
      "text/plain": [
       "'bcdef'"
      ]
     },
     "execution_count": 14,
     "metadata": {},
     "output_type": "execute_result"
    }
   ],
   "source": [
    "s = 'abcdef'\n",
    "\n",
    "s[1:] # a partir do segundo elemento"
   ]
  },
  {
   "cell_type": "code",
   "execution_count": 15,
   "metadata": {
    "collapsed": false,
    "slideshow": {
     "slide_type": "fragment"
    }
   },
   "outputs": [
    {
     "data": {
      "text/plain": [
       "'def'"
      ]
     },
     "execution_count": 15,
     "metadata": {},
     "output_type": "execute_result"
    }
   ],
   "source": [
    "s[-3:] # últimos 3 elementos"
   ]
  },
  {
   "cell_type": "code",
   "execution_count": 20,
   "metadata": {
    "collapsed": false,
    "slideshow": {
     "slide_type": "fragment"
    }
   },
   "outputs": [
    {
     "data": {
      "text/plain": [
       "'ace'"
      ]
     },
     "execution_count": 20,
     "metadata": {},
     "output_type": "execute_result"
    }
   ],
   "source": [
    "s[::2] # pegar elementos intercalados"
   ]
  },
  {
   "cell_type": "code",
   "execution_count": 23,
   "metadata": {
    "collapsed": false,
    "slideshow": {
     "slide_type": "fragment"
    }
   },
   "outputs": [
    {
     "data": {
      "text/plain": [
       "'fedcba'"
      ]
     },
     "execution_count": 23,
     "metadata": {},
     "output_type": "execute_result"
    }
   ],
   "source": [
    "s[::-1] # inverter a lista, percorrendo-a com um passo negativo"
   ]
  },
  {
   "cell_type": "markdown",
   "metadata": {
    "slideshow": {
     "slide_type": "slide"
    }
   },
   "source": [
    "# Estruturas de controle"
   ]
  },
  {
   "cell_type": "markdown",
   "metadata": {
    "slideshow": {
     "slide_type": "subslide"
    }
   },
   "source": [
    "# Condicionais"
   ]
  },
  {
   "cell_type": "code",
   "execution_count": null,
   "metadata": {
    "collapsed": false,
    "slideshow": {
     "slide_type": "fragment"
    }
   },
   "outputs": [],
   "source": [
    "if tem_duvidas():\n",
    "    publico.levanta_a_mao_e_pergunta()\n",
    "else:\n",
    "    continuamos()"
   ]
  },
  {
   "cell_type": "markdown",
   "metadata": {
    "slideshow": {
     "slide_type": "fragment"
    }
   },
   "source": [
    "- Operador ternário"
   ]
  },
  {
   "cell_type": "code",
   "execution_count": null,
   "metadata": {
    "collapsed": true,
    "slideshow": {
     "slide_type": "fragment"
    }
   },
   "outputs": [],
   "source": [
    "publico.levanta_a_mao_e_pergunta() if tem_duvidas() else continuamos()"
   ]
  },
  {
   "cell_type": "markdown",
   "metadata": {
    "slideshow": {
     "slide_type": "subslide"
    }
   },
   "source": [
    "# Laços"
   ]
  },
  {
   "cell_type": "code",
   "execution_count": null,
   "metadata": {
    "collapsed": true,
    "slideshow": {
     "slide_type": "fragment"
    }
   },
   "outputs": [],
   "source": [
    "for item in sequence:\n",
    "    faca_alguma_coisa(item)"
   ]
  },
  {
   "cell_type": "code",
   "execution_count": null,
   "metadata": {
    "collapsed": true,
    "slideshow": {
     "slide_type": "fragment"
    }
   },
   "outputs": [],
   "source": [
    "while valor < limite:\n",
    "    transforme(valor)"
   ]
  },
  {
   "cell_type": "markdown",
   "metadata": {
    "slideshow": {
     "slide_type": "fragment"
    }
   },
   "source": [
    "- `break`: para o loop atual\n",
    "- `continue`: passa para a próxima iteração do loop"
   ]
  },
  {
   "cell_type": "markdown",
   "metadata": {
    "slideshow": {
     "slide_type": "slide"
    }
   },
   "source": [
    "# Definindo Funções"
   ]
  },
  {
   "cell_type": "code",
   "execution_count": 71,
   "metadata": {
    "collapsed": false,
    "slideshow": {
     "slide_type": "fragment"
    }
   },
   "outputs": [
    {
     "data": {
      "text/plain": [
       "2"
      ]
     },
     "execution_count": 71,
     "metadata": {},
     "output_type": "execute_result"
    }
   ],
   "source": [
    "def f(x, y=1): # y tem um valor padrão\n",
    "    return x * y\n",
    "\n",
    "f(2)"
   ]
  },
  {
   "cell_type": "code",
   "execution_count": 72,
   "metadata": {
    "collapsed": false,
    "slideshow": {
     "slide_type": "fragment"
    }
   },
   "outputs": [
    {
     "data": {
      "text/plain": [
       "4"
      ]
     },
     "execution_count": 72,
     "metadata": {},
     "output_type": "execute_result"
    }
   ],
   "source": [
    "f(2, 2)"
   ]
  },
  {
   "cell_type": "markdown",
   "metadata": {
    "slideshow": {
     "slide_type": "subslide"
    }
   },
   "source": [
    "# Definindo Funções\n",
    "\n",
    "- Funções anônimas (`lambda`)"
   ]
  },
  {
   "cell_type": "code",
   "execution_count": 69,
   "metadata": {
    "collapsed": false,
    "slideshow": {
     "slide_type": "fragment"
    }
   },
   "outputs": [
    {
     "data": {
      "text/plain": [
       "<function __main__.<lambda>>"
      ]
     },
     "execution_count": 69,
     "metadata": {},
     "output_type": "execute_result"
    }
   ],
   "source": [
    "lambda x, y: x + y"
   ]
  },
  {
   "cell_type": "markdown",
   "metadata": {
    "slideshow": {
     "slide_type": "fragment"
    }
   },
   "source": [
    "Caso mais comum de uso é criar funções anônimas e já as passar como parâmetro para outras funções"
   ]
  },
  {
   "cell_type": "code",
   "execution_count": 77,
   "metadata": {
    "collapsed": false,
    "slideshow": {
     "slide_type": "fragment"
    }
   },
   "outputs": [
    {
     "data": {
      "text/plain": [
       "[1, 2, 4, 8, 16, 32, 64, 128]"
      ]
     },
     "execution_count": 77,
     "metadata": {},
     "output_type": "execute_result"
    }
   ],
   "source": [
    "list(map(lambda x: 2 ** x, range(8)))"
   ]
  },
  {
   "cell_type": "markdown",
   "metadata": {
    "collapsed": true,
    "slideshow": {
     "slide_type": "slide"
    }
   },
   "source": [
    "# Classes"
   ]
  },
  {
   "cell_type": "code",
   "execution_count": 1,
   "metadata": {
    "collapsed": false,
    "slideshow": {
     "slide_type": "fragment"
    }
   },
   "outputs": [
    {
     "name": "stdout",
     "output_type": "stream",
     "text": [
      "aha\n"
     ]
    }
   ],
   "source": [
    "class A:\n",
    "    def __init__(self):\n",
    "        self.text = 'aha'\n",
    "\n",
    "        \n",
    "class B(A):\n",
    "    def __init__(self):\n",
    "        super().__init__()\n",
    "    \n",
    "    def mostre(self):\n",
    "        print(self.text)\n",
    "\n",
    "        \n",
    "b = B()\n",
    "b.mostre()"
   ]
  },
  {
   "cell_type": "markdown",
   "metadata": {
    "collapsed": true,
    "slideshow": {
     "slide_type": "subslide"
    }
   },
   "source": [
    "# Classes - Atributos e métodos privados"
   ]
  },
  {
   "cell_type": "code",
   "execution_count": 64,
   "metadata": {
    "collapsed": false,
    "slideshow": {
     "slide_type": "fragment"
    }
   },
   "outputs": [
    {
     "name": "stdout",
     "output_type": "stream",
     "text": [
      "Shhhhh\n"
     ]
    }
   ],
   "source": [
    "class B(A):\n",
    "    def __init__(self):\n",
    "        super().__init__()\n",
    "        self._atributo_privado = 1 # new\n",
    "    \n",
    "    def mostre(self):\n",
    "        print(self.text)\n",
    "        \n",
    "    # new\n",
    "    def _metodo_privado(self):\n",
    "        print('Shhhhh')\n",
    "\n",
    "\n",
    "b = B()\n",
    "b._metodo_privado()"
   ]
  },
  {
   "cell_type": "markdown",
   "metadata": {
    "slideshow": {
     "slide_type": "fragment"
    }
   },
   "source": [
    "Python não impede o acesso, usar `_` para marcar como privado é apenas uma convenção.\n",
    "\n",
    "Serve apenas para indicar aos outros programadores que eles não deveriam acessar aquela propriedade."
   ]
  },
  {
   "cell_type": "markdown",
   "metadata": {
    "collapsed": true,
    "slideshow": {
     "slide_type": "subslide"
    }
   },
   "source": [
    "# Classes - Convenções"
   ]
  },
  {
   "cell_type": "code",
   "execution_count": 107,
   "metadata": {
    "collapsed": false,
    "slideshow": {
     "slide_type": "fragment"
    }
   },
   "outputs": [
    {
     "data": {
      "text/plain": [
       "'__class__, __delattr__, __dict__, __dir__, __doc__, __eq__, __format__, __ge__, __getattribute__, __gt__, __hash__, __init__, __le__, __lt__, __module__, __ne__, __new__, __reduce__, __reduce_ex__, __repr__, __setattr__, __sizeof__, __str__, __subclasshook__, __weakref__'"
      ]
     },
     "execution_count": 107,
     "metadata": {},
     "output_type": "execute_result"
    }
   ],
   "source": [
    "', '.join(dir(A))"
   ]
  },
  {
   "cell_type": "markdown",
   "metadata": {
    "collapsed": true,
    "slideshow": {
     "slide_type": "fragment"
    }
   },
   "source": [
    "Métodos como `__init__` (com dois _underscores_ na frente e atrás) são outra convenção,\n",
    "para indicar métodos especiais ([Docs:_Special method names_)](https://docs.python.org/3.4/reference/datamodel.html#specialnames)\n",
    "\n",
    "Exemplo:\n",
    "quando chamamos `a == b`, o que acontece é equivalente a `a.__eq__(b)`"
   ]
  },
  {
   "cell_type": "markdown",
   "metadata": {
    "collapsed": true,
    "slideshow": {
     "slide_type": "subslide"
    }
   },
   "source": [
    "# Classes - Outro uso dos _underscores_"
   ]
  },
  {
   "cell_type": "code",
   "execution_count": 65,
   "metadata": {
    "collapsed": false,
    "slideshow": {
     "slide_type": "fragment"
    }
   },
   "outputs": [
    {
     "name": "stdout",
     "output_type": "stream",
     "text": [
      "aha\n",
      "Funciona\n"
     ]
    }
   ],
   "source": [
    "class B(A):\n",
    "    def __init__(self):\n",
    "        super().__init__()\n",
    "        self._atributo_privado = 1\n",
    "    \n",
    "    def mostre(self):\n",
    "        print(self.text)\n",
    "        self.__nome_estranho() # new\n",
    "        \n",
    "    def _metodo_privado(self):\n",
    "        print('Shhhhh')\n",
    "        \n",
    "    # new\n",
    "    def __nome_estranho(self):\n",
    "        print('Funciona')\n",
    "        \n",
    "b = B()\n",
    "b.mostre()"
   ]
  },
  {
   "cell_type": "markdown",
   "metadata": {
    "collapsed": true,
    "slideshow": {
     "slide_type": "subslide"
    }
   },
   "source": [
    "# Classes - Outro uso dos _underscores_"
   ]
  },
  {
   "cell_type": "code",
   "execution_count": 66,
   "metadata": {
    "collapsed": false,
    "slideshow": {
     "slide_type": "fragment"
    }
   },
   "outputs": [
    {
     "ename": "AttributeError",
     "evalue": "'B' object has no attribute '__nome_estranho'",
     "output_type": "error",
     "traceback": [
      "\u001b[0;31m---------------------------------------------------------------------------\u001b[0m",
      "\u001b[0;31mAttributeError\u001b[0m                            Traceback (most recent call last)",
      "\u001b[0;32m<ipython-input-66-f51fb735ec25>\u001b[0m in \u001b[0;36m<module>\u001b[0;34m()\u001b[0m\n\u001b[0;32m----> 1\u001b[0;31m \u001b[0mb\u001b[0m\u001b[0;34m.\u001b[0m\u001b[0m__nome_estranho\u001b[0m\u001b[0;34m(\u001b[0m\u001b[0;34m)\u001b[0m\u001b[0;34m\u001b[0m\u001b[0m\n\u001b[0m",
      "\u001b[0;31mAttributeError\u001b[0m: 'B' object has no attribute '__nome_estranho'"
     ]
    }
   ],
   "source": [
    "b.__nome_estranho()"
   ]
  },
  {
   "cell_type": "code",
   "execution_count": 67,
   "metadata": {
    "collapsed": false,
    "slideshow": {
     "slide_type": "fragment"
    }
   },
   "outputs": [
    {
     "data": {
      "text/plain": [
       "'_B__nome_estranho, __class__, __delattr__, __dict__, __dir__, __doc__, __eq__, __format__, __ge__, __getattribute__, __gt__, __hash__, __init__, __le__, __lt__, __module__, __ne__, __new__, __reduce__, __reduce_ex__, __repr__, __setattr__, __sizeof__, __str__, __subclasshook__, __weakref__, _atributo_privado, _metodo_privado, mostre, text'"
      ]
     },
     "execution_count": 67,
     "metadata": {},
     "output_type": "execute_result"
    }
   ],
   "source": [
    "', '.join(dir(b))"
   ]
  },
  {
   "cell_type": "markdown",
   "metadata": {
    "slideshow": {
     "slide_type": "slide"
    }
   },
   "source": [
    "# Comprehensions\n",
    "\n",
    "_Comprehensions_ são uma maneira especial de criar coleções\n",
    "\n",
    "A sintaxe genérica é:\n",
    "```\n",
    "[... for ... in ... if ...]\n",
    "```\n",
    "sendo o `if` opcional"
   ]
  },
  {
   "cell_type": "code",
   "execution_count": null,
   "metadata": {
    "collapsed": false,
    "slideshow": {
     "slide_type": "fragment"
    }
   },
   "outputs": [],
   "source": [
    "l = [2 ** x for x in range(8)]\n",
    "l = [obj.atributo for obj in sequencia if obj] # is not None"
   ]
  },
  {
   "cell_type": "code",
   "execution_count": null,
   "metadata": {
    "collapsed": false,
    "slideshow": {
     "slide_type": "fragment"
    }
   },
   "outputs": [],
   "source": [
    "l = list(map(lambda x: 2 ** x, range(8)))\n",
    "l = map(lambda x: x.atributo, filter(lambda x: x, sequencia))"
   ]
  },
  {
   "cell_type": "code",
   "execution_count": null,
   "metadata": {
    "collapsed": true,
    "slideshow": {
     "slide_type": "fragment"
    }
   },
   "outputs": [],
   "source": [
    "d = {x: y for x, y in zip(xs, ys)}"
   ]
  },
  {
   "cell_type": "markdown",
   "metadata": {
    "slideshow": {
     "slide_type": "slide"
    }
   },
   "source": [
    "# Iterador (_iterator_)\n",
    "\n",
    "Um objeto que permite iterar sobre uma sequência.\n",
    "\n",
    "Toda vez que usamos um `for`, o Python cria um `iterator` para a sequência que passarmos"
   ]
  },
  {
   "cell_type": "markdown",
   "metadata": {
    "slideshow": {
     "slide_type": "fragment"
    }
   },
   "source": [
    "As funções `map`, `filter` e outras do módulo `itertools` retornam `iterators`"
   ]
  },
  {
   "cell_type": "markdown",
   "metadata": {
    "slideshow": {
     "slide_type": "slide"
    }
   },
   "source": [
    "# Geradores (_generators_)\n",
    "\n",
    "São uma ferramenta para criar `iterators`"
   ]
  },
  {
   "cell_type": "code",
   "execution_count": 118,
   "metadata": {
    "collapsed": true,
    "slideshow": {
     "slide_type": "fragment"
    }
   },
   "outputs": [],
   "source": [
    "def infinito(start=0):\n",
    "    x = start\n",
    "    while True:\n",
    "        yield x\n",
    "        x += 1\n",
    "        \n",
    "inf_gen = infinito()"
   ]
  },
  {
   "cell_type": "code",
   "execution_count": 119,
   "metadata": {
    "collapsed": false,
    "slideshow": {
     "slide_type": "fragment"
    }
   },
   "outputs": [
    {
     "data": {
      "text/plain": [
       "0"
      ]
     },
     "execution_count": 119,
     "metadata": {},
     "output_type": "execute_result"
    }
   ],
   "source": [
    "next(inf_gen)"
   ]
  },
  {
   "cell_type": "code",
   "execution_count": 120,
   "metadata": {
    "collapsed": false,
    "slideshow": {
     "slide_type": "fragment"
    }
   },
   "outputs": [
    {
     "data": {
      "text/plain": [
       "1"
      ]
     },
     "execution_count": 120,
     "metadata": {},
     "output_type": "execute_result"
    }
   ],
   "source": [
    "next(inf_gen)"
   ]
  },
  {
   "cell_type": "code",
   "execution_count": 129,
   "metadata": {
    "collapsed": false,
    "slideshow": {
     "slide_type": "fragment"
    }
   },
   "outputs": [
    {
     "data": {
      "text/plain": [
       "generator"
      ]
     },
     "execution_count": 129,
     "metadata": {},
     "output_type": "execute_result"
    }
   ],
   "source": [
    "type(inf_gen)"
   ]
  },
  {
   "cell_type": "markdown",
   "metadata": {
    "slideshow": {
     "slide_type": "slide"
    }
   },
   "source": [
    "# Expressões geradoras (_Generators Expressions_)\n",
    "\n",
    "Sintaxe semelhante a _list comprehension_ porém usando parênteses\n",
    "\n",
    "Tende a consumir menos memória, pois gera os elementos sob-demanda"
   ]
  },
  {
   "cell_type": "code",
   "execution_count": 125,
   "metadata": {
    "collapsed": false,
    "slideshow": {
     "slide_type": "fragment"
    }
   },
   "outputs": [
    {
     "data": {
      "text/plain": [
       "<generator object <genexpr> at 0x7f43f6da4f30>"
      ]
     },
     "execution_count": 125,
     "metadata": {},
     "output_type": "execute_result"
    }
   ],
   "source": [
    "g = (x for x in range(8) if x % 2 == 0)\n",
    "g"
   ]
  },
  {
   "cell_type": "code",
   "execution_count": 126,
   "metadata": {
    "collapsed": false,
    "slideshow": {
     "slide_type": "fragment"
    }
   },
   "outputs": [
    {
     "data": {
      "text/plain": [
       "generator"
      ]
     },
     "execution_count": 126,
     "metadata": {},
     "output_type": "execute_result"
    }
   ],
   "source": [
    "type(g)"
   ]
  },
  {
   "cell_type": "markdown",
   "metadata": {
    "slideshow": {
     "slide_type": "slide"
    }
   },
   "source": [
    "# Decorators\n",
    "\n",
    "- Função que altera o comportamento da função/classe \"decorada\""
   ]
  },
  {
   "cell_type": "markdown",
   "metadata": {
    "slideshow": {
     "slide_type": "subslide"
    }
   },
   "source": [
    "# Decorators\n",
    "\n",
    "Como usar um `decorator` já pronto"
   ]
  },
  {
   "cell_type": "code",
   "execution_count": 133,
   "metadata": {
    "collapsed": true,
    "slideshow": {
     "slide_type": "fragment"
    }
   },
   "outputs": [],
   "source": [
    "from functools import lru_cache\n",
    "\n",
    "@lru_cache(maxsize=None)\n",
    "def fib(n):\n",
    "    if n < 2:\n",
    "        return n\n",
    "    return fib(n-1) + fib(n-2)"
   ]
  },
  {
   "cell_type": "code",
   "execution_count": 134,
   "metadata": {
    "collapsed": false,
    "slideshow": {
     "slide_type": "fragment"
    }
   },
   "outputs": [
    {
     "data": {
      "text/plain": [
       "[0, 1, 1, 2, 3, 5, 8, 13, 21, 34, 55, 89, 144, 233, 377, 610]"
      ]
     },
     "execution_count": 134,
     "metadata": {},
     "output_type": "execute_result"
    }
   ],
   "source": [
    "[fib(n) for n in range(16)]"
   ]
  },
  {
   "cell_type": "code",
   "execution_count": 135,
   "metadata": {
    "collapsed": false,
    "slideshow": {
     "slide_type": "fragment"
    }
   },
   "outputs": [
    {
     "data": {
      "text/plain": [
       "CacheInfo(hits=28, misses=16, maxsize=None, currsize=16)"
      ]
     },
     "execution_count": 135,
     "metadata": {},
     "output_type": "execute_result"
    }
   ],
   "source": [
    "fib.cache_info()"
   ]
  },
  {
   "cell_type": "markdown",
   "metadata": {
    "slideshow": {
     "slide_type": "subslide"
    }
   },
   "source": [
    "# Decorators\n",
    "\n",
    "Como criar um `decorator` (usando um `decorator`)"
   ]
  },
  {
   "cell_type": "code",
   "execution_count": 130,
   "metadata": {
    "collapsed": false,
    "slideshow": {
     "slide_type": "fragment"
    }
   },
   "outputs": [
    {
     "name": "stdout",
     "output_type": "stream",
     "text": [
      "Calling decorated function\n",
      "Called example function\n"
     ]
    }
   ],
   "source": [
    "from functools import wraps\n",
    "def my_decorator(f):\n",
    "    @wraps(f)\n",
    "    def wrapper(*args, **kwds):\n",
    "        print('Calling decorated function')\n",
    "        return f(*args, **kwds)\n",
    "    return wrapper\n",
    "\n",
    "@my_decorator\n",
    "def example():\n",
    "    \"\"\"Docstring\"\"\"\n",
    "    print('Called example function')\n",
    "\n",
    "example()"
   ]
  },
  {
   "cell_type": "markdown",
   "metadata": {
    "slideshow": {
     "slide_type": "fragment"
    }
   },
   "source": [
    "É uma boa prática usar `functools.wraps` ao criar `decorators` pois assim se preservam as propriedades da função original, e.g. `__name__` e `__doc__`\n",
    "\n",
    "Exemplos tirados de: https://docs.python.org/3/library/functools.html#functools.wraps"
   ]
  },
  {
   "cell_type": "markdown",
   "metadata": {
    "slideshow": {
     "slide_type": "slide"
    }
   },
   "source": [
    "# Tratamento de exceções\n"
   ]
  },
  {
   "cell_type": "code",
   "execution_count": null,
   "metadata": {
    "collapsed": true
   },
   "outputs": [],
   "source": [
    "try:\n",
    "    operacao_arriscada()\n",
    "except:\n",
    "    lide_com_o_problema()"
   ]
  },
  {
   "cell_type": "markdown",
   "metadata": {
    "slideshow": {
     "slide_type": "subslide"
    }
   },
   "source": [
    "# Monkey Patching"
   ]
  },
  {
   "cell_type": "code",
   "execution_count": 144,
   "metadata": {
    "collapsed": true,
    "slideshow": {
     "slide_type": "fragment"
    }
   },
   "outputs": [],
   "source": [
    "def monkey():\n",
    "    from IPython.display import HTML\n",
    "    return HTML('<img src=\"images/sir.jpg\" width=\"350px\">')\n",
    "\n",
    "b.monkey = monkey"
   ]
  },
  {
   "cell_type": "code",
   "execution_count": 145,
   "metadata": {
    "collapsed": false,
    "slideshow": {
     "slide_type": "fragment"
    }
   },
   "outputs": [
    {
     "data": {
      "text/html": [
       "<img src=\"images/sir.jpg\" width=\"350px\">"
      ],
      "text/plain": [
       "<IPython.core.display.HTML object>"
      ]
     },
     "execution_count": 145,
     "metadata": {},
     "output_type": "execute_result"
    }
   ],
   "source": [
    "b.monkey()"
   ]
  },
  {
   "cell_type": "markdown",
   "metadata": {
    "slideshow": {
     "slide_type": "slide"
    }
   },
   "source": [
    "# O interpretador\n",
    "\n",
    "`$ python`"
   ]
  },
  {
   "cell_type": "code",
   "execution_count": null,
   "metadata": {
    "collapsed": false,
    "slideshow": {
     "slide_type": "fragment"
    }
   },
   "outputs": [],
   "source": [
    "dir()"
   ]
  },
  {
   "cell_type": "code",
   "execution_count": 32,
   "metadata": {
    "collapsed": false,
    "slideshow": {
     "slide_type": "fragment"
    }
   },
   "outputs": [
    {
     "name": "stdout",
     "output_type": "stream",
     "text": [
      "\n",
      "Welcome to Python 3.4's help utility!\n",
      "\n",
      "If this is your first time using Python, you should definitely check out\n",
      "the tutorial on the Internet at http://docs.python.org/3.4/tutorial/.\n",
      "\n",
      "Enter the name of any module, keyword, or topic to get help on writing\n",
      "Python programs and using Python modules.  To quit this help utility and\n",
      "return to the interpreter, just type \"quit\".\n",
      "\n",
      "To get a list of available modules, keywords, symbols, or topics, type\n",
      "\"modules\", \"keywords\", \"symbols\", or \"topics\".  Each module also comes\n",
      "with a one-line summary of what it does; to list the modules whose name\n",
      "or summary contain a given string such as \"spam\", type \"modules spam\".\n",
      "\n",
      "help> keywords\n",
      "\n",
      "Here is a list of the Python keywords.  Enter any keyword to get more help.\n",
      "\n",
      "False               def                 if                  raise\n",
      "None                del                 import              return\n",
      "True                elif                in                  try\n",
      "and                 else                is                  while\n",
      "as                  except              lambda              with\n",
      "assert              finally             nonlocal            yield\n",
      "break               for                 not                 \n",
      "class               from                or                  \n",
      "continue            global              pass                \n",
      "\n",
      "help> quit\n",
      "\n",
      "You are now leaving help and returning to the Python interpreter.\n",
      "If you want to ask for help on a particular object directly from the\n",
      "interpreter, you can type \"help(object)\".  Executing \"help('string')\"\n",
      "has the same effect as typing a particular string at the help> prompt.\n"
     ]
    }
   ],
   "source": [
    "help()"
   ]
  },
  {
   "cell_type": "markdown",
   "metadata": {
    "slideshow": {
     "slide_type": "slide"
    }
   },
   "source": [
    "# Baterias inclusas - Biblioteca padrão\n",
    "\n",
    "- [Python Module Index](https://docs.python.org/3.4/py-modindex.html)\n",
    "\n",
    "## Alguns pacotes importantes\n",
    "- os\n",
    "- sys\n",
    "- re\n",
    "- json\n",
    "- doctest\n",
    "- unittest\n",
    "- collections\n",
    "- itertools\n",
    "- functools\n",
    "- logging\n",
    "- random"
   ]
  },
  {
   "cell_type": "markdown",
   "metadata": {
    "slideshow": {
     "slide_type": "slide"
    }
   },
   "source": [
    "# Ecosistema - Pacotes\n",
    "\n",
    "- [PyPI - the Python Package Index](https://pypi.python.org/pypi)\n",
    "- Atualmente existem 94333 pacotes no PyPI\n",
    "\n",
    "\n",
    "## Alguns pacotes importantes\n",
    "\n",
    "- ipython\n",
    "- jupyter\n",
    "- requests\n",
    "- begins, docopt\n",
    "- pandas\n",
    "- numpy, numba\n",
    "- scipy\n",
    "- matplotlib, seaborn, bokeh\n",
    "- beautifulsoup4\n",
    "- flask, django, pyramid\n",
    "- scikit-learn\n",
    "- theano, tensorflow, keras"
   ]
  },
  {
   "cell_type": "markdown",
   "metadata": {
    "slideshow": {
     "slide_type": "fragment"
    }
   },
   "source": [
    "`$pip install ipython`"
   ]
  },
  {
   "cell_type": "markdown",
   "metadata": {
    "slideshow": {
     "slide_type": "slide"
    }
   },
   "source": [
    "# Virtualenvs\n",
    "\n",
    "São ambientes isolados, para facilitar trabalhar com diferentes versões de bibliotecas na mesma máquina\n",
    "```\n",
    "$ pip install virtualenvwrapper\n",
    "```\n",
    "\n",
    "Com o `virtualenvwrapper` instalado, fica bastante fácil criar, ativar e desativar os `virtualenvs`\n",
    "```\n",
    "$ mkvirtualenv venv-name\n",
    "(venv-name) $ pip install <> \n",
    "(venv-name) $ deactivate\n",
    "$ workon another-venv\n",
    "(another-venv) $ \n",
    "```"
   ]
  },
  {
   "cell_type": "code",
   "execution_count": 31,
   "metadata": {
    "collapsed": false,
    "slideshow": {
     "slide_type": "skip"
    }
   },
   "outputs": [
    {
     "name": "stderr",
     "output_type": "stream",
     "text": [
      "/usr/local/lib/python3.4/dist-packages/matplotlib/backends/backend_gtk3.py:215: Warning: Source ID 6 was not found when attempting to remove it\n",
      "  GLib.source_remove(self._idle_event_id)\n"
     ]
    }
   ],
   "source": [
    "%matplotlib inline"
   ]
  },
  {
   "cell_type": "markdown",
   "metadata": {
    "slideshow": {
     "slide_type": "slide"
    }
   },
   "source": [
    "# Aplicações\n",
    "\n",
    "## Análise/Ciência de Dados\n",
    "\n",
    "Fonte: http://scikit-learn.org/stable/auto_examples/plot_cv_predict.html#sphx-glr-auto-examples-plot-cv-predict-py"
   ]
  },
  {
   "cell_type": "code",
   "execution_count": 35,
   "metadata": {
    "collapsed": false,
    "slideshow": {
     "slide_type": "-"
    }
   },
   "outputs": [
    {
     "name": "stderr",
     "output_type": "stream",
     "text": [
      "/usr/local/lib/python3.4/dist-packages/matplotlib/collections.py:590: FutureWarning: elementwise comparison failed; returning scalar instead, but in the future will perform elementwise comparison\n",
      "  if self._edgecolors == str('face'):\n"
     ]
    },
    {
     "data": {
      "image/png": "[encoded data removed]",
      "text/plain": [
       "<matplotlib.figure.Figure at 0x7fdda9084588>"
      ]
     },
     "metadata": {},
     "output_type": "display_data"
    }
   ],
   "source": [
    "from sklearn import datasets\n",
    "from sklearn.model_selection import cross_val_predict\n",
    "from sklearn import linear_model\n",
    "import matplotlib.pyplot as plt\n",
    "\n",
    "lr = linear_model.LinearRegression()\n",
    "\n",
    "boston = datasets.load_boston()\n",
    "y = boston.target\n",
    "\n",
    "# cross_val_predict returns an array of the same size as `y` where each entry\n",
    "# is a prediction obtained by cross validation:\n",
    "predicted = cross_val_predict(lr, boston.data, y, cv=10)\n",
    "\n",
    "fig, ax = plt.subplots()\n",
    "ax.scatter(y, predicted)\n",
    "ax.plot([y.min(), y.max()], [y.min(), y.max()], 'k--', lw=4)\n",
    "ax.set_xlabel('Measured')\n",
    "ax.set_ylabel('Predicted')\n",
    "plt.show()"
   ]
  },
  {
   "cell_type": "markdown",
   "metadata": {
    "slideshow": {
     "slide_type": "slide"
    }
   },
   "source": [
    "# Aplicações\n",
    "\n",
    "## Visualização de dados"
   ]
  },
  {
   "cell_type": "code",
   "execution_count": 32,
   "metadata": {
    "collapsed": false,
    "slideshow": {
     "slide_type": "-"
    }
   },
   "outputs": [
    {
     "name": "stderr",
     "output_type": "stream",
     "text": [
      "/usr/local/lib/python3.4/dist-packages/matplotlib/collections.py:590: FutureWarning: elementwise comparison failed; returning scalar instead, but in the future will perform elementwise comparison\n",
      "  if self._edgecolors == str('face'):\n"
     ]
    },
    {
     "data": {
      "image/png": "[encoded data removed]",
      "text/plain": [
       "<matplotlib.figure.Figure at 0x7fdda8bfe320>"
      ]
     },
     "metadata": {},
     "output_type": "display_data"
    }
   ],
   "source": [
    "import seaborn as sns\n",
    "import matplotlib.pyplot as plt\n",
    "sns.set(context=\"paper\", font=\"monospace\")\n",
    "\n",
    "# Load the datset of correlations between cortical brain networks\n",
    "df = sns.load_dataset(\"brain_networks\", header=[0, 1, 2], index_col=0)\n",
    "corrmat = df.corr()\n",
    "\n",
    "# Set up the matplotlib figure\n",
    "f, ax = plt.subplots(figsize=(12, 9))\n",
    "\n",
    "# Draw the heatmap using seaborn\n",
    "sns.heatmap(corrmat, vmax=.8, square=True)\n",
    "\n",
    "# Use matplotlib directly to emphasize known networks\n",
    "networks = corrmat.columns.get_level_values(\"network\")\n",
    "for i, network in enumerate(networks):\n",
    "    if i and network != networks[i - 1]:\n",
    "        ax.axhline(len(networks) - i, c=\"w\")\n",
    "        ax.axvline(i, c=\"w\")\n",
    "f.tight_layout()"
   ]
  },
  {
   "cell_type": "markdown",
   "metadata": {
    "slideshow": {
     "slide_type": "slide"
    }
   },
   "source": [
    "# Aplicações\n",
    "\n",
    "## Desenvolvimento Web\n",
    "\n",
    "Uma aplicação web usando Flask e MySql\n",
    "Fonte: https://code.tutsplus.com/tutorials/creating-a-web-app-from-scratch-using-python-flask-and-mysql--cms-22972"
   ]
  },
  {
   "cell_type": "code",
   "execution_count": 37,
   "metadata": {
    "collapsed": false,
    "slideshow": {
     "slide_type": "-"
    }
   },
   "outputs": [
    {
     "name": "stderr",
     "output_type": "stream",
     "text": [
      " * Running on http://127.0.0.1:5002/ (Press CTRL+C to quit)\n",
      "127.0.0.1 - - [09/Dec/2016 16:21:03] \"GET / HTTP/1.1\" 500 -\n"
     ]
    }
   ],
   "source": [
    "from flask import Flask, render_template, json, request\n",
    "from flask.ext.mysql import MySQL\n",
    "from werkzeug import generate_password_hash, check_password_hash\n",
    "\n",
    "mysql = MySQL()\n",
    "app = Flask(__name__)\n",
    "\n",
    "# MySQL configurations\n",
    "app.config['MYSQL_DATABASE_USER'] = 'jay'\n",
    "app.config['MYSQL_DATABASE_PASSWORD'] = 'jay'\n",
    "app.config['MYSQL_DATABASE_DB'] = 'BucketList'\n",
    "app.config['MYSQL_DATABASE_HOST'] = 'localhost'\n",
    "mysql.init_app(app)\n",
    "\n",
    "\n",
    "@app.route('/')\n",
    "def main():\n",
    "    return render_template('index.html')\n",
    "\n",
    "@app.route('/showSignUp')\n",
    "def showSignUp():\n",
    "    return render_template('signup.html')\n",
    "\n",
    "\n",
    "@app.route('/signUp',methods=['POST','GET'])\n",
    "def signUp():\n",
    "    try:\n",
    "        _name = request.form['inputName']\n",
    "        _email = request.form['inputEmail']\n",
    "        _password = request.form['inputPassword']\n",
    "\n",
    "        # validate the received values\n",
    "        if _name and _email and _password:\n",
    "            \n",
    "            # All Good, let's call MySQL\n",
    "            \n",
    "            conn = mysql.connect()\n",
    "            cursor = conn.cursor()\n",
    "            _hashed_password = generate_password_hash(_password)\n",
    "            cursor.callproc('sp_createUser',(_name,_email,_hashed_password))\n",
    "            data = cursor.fetchall()\n",
    "\n",
    "            if len(data) is 0:\n",
    "                conn.commit()\n",
    "                return json.dumps({'message':'User created successfully !'})\n",
    "            else:\n",
    "                return json.dumps({'error':str(data[0])})\n",
    "        else:\n",
    "            return json.dumps({'html':'<span>Enter the required fields</span>'})\n",
    "\n",
    "    except Exception as e:\n",
    "        return json.dumps({'error':str(e)})\n",
    "    finally:\n",
    "        cursor.close() \n",
    "        conn.close()\n",
    "\n",
    "if __name__ == \"__main__\":\n",
    "    app.run(port=5002)\n"
   ]
  },
  {
   "cell_type": "markdown",
   "metadata": {
    "slideshow": {
     "slide_type": "slide"
    }
   },
   "source": [
    "# Aplicações\n",
    "\n",
    "## Facilitando a vida\n",
    "\n",
    "**Cenário**: Um time fez uma reunião mas nem todos puderam participar. Era necessário enviar todas as cartas criadas durante a reunião em formato texto para os que faltaram.\n",
    "\n",
    "<center><img alt=\"Quadro do Trello genérico\" src=\"images/trello-json.png\" width=\"90%\"></center>"
   ]
  },
  {
   "cell_type": "code",
   "execution_count": 5,
   "metadata": {
    "collapsed": false,
    "slideshow": {
     "slide_type": "subslide"
    }
   },
   "outputs": [
    {
     "name": "stdout",
     "output_type": "stream",
     "text": [
      "Não funcionou\n",
      "  Isso não foi legal\n",
      "  Isso foi muito ruim\n",
      "  Muito ruim\n",
      "  Bem mais ou menos\n",
      "\n",
      "Funcionou\n",
      "  Isso foi bom\n",
      "  Isso também\n",
      "  Essa outra coisa também foi boa\n",
      "\n",
      "Ações\n",
      "  Melhorar isso\n",
      "  Cuidar para não fazer aquilo\n",
      "\n"
     ]
    }
   ],
   "source": [
    "import json\n",
    "\n",
    "with open('retro.json', 'r') as f:\n",
    "    retro = json.load(f)\n",
    "    lists_map = {l['id']: l['name'] for l in retro['lists']}\n",
    "    cards = [{'text': card['name'], 'list': lists_map[card['idList']]}\n",
    "             for card in retro['cards']]\n",
    "\n",
    "    for l in lists_map.values():\n",
    "        print(l)\n",
    "        [print('  ' + c['text']) for c in cards if c['list'] == l]\n",
    "        print()"
   ]
  },
  {
   "cell_type": "markdown",
   "metadata": {
    "slideshow": {
     "slide_type": "slide"
    }
   },
   "source": [
    "# Atividades práticas\n",
    "\n",
    "## Codewars vs Coding Dojo"
   ]
  },
  {
   "cell_type": "markdown",
   "metadata": {
    "slideshow": {
     "slide_type": "subslide"
    }
   },
   "source": [
    "# Codewars\n",
    "\n",
    "https://www.codewars.com/\n",
    "\n",
    "Clan: NatalSolidario\n",
    "\n",
    "https://www.codewars.com/collections/basic-python"
   ]
  },
  {
   "cell_type": "markdown",
   "metadata": {},
   "source": [
    "# Coding Dojo\n",
    "\n",
    "### [FizzBuzz](http://dojopuzzles.com/problemas/exibe/fizzbuzz/#)\n",
    "\n",
    "Neste problema, você deverá exibir uma lista de 1 a 100, um em cada linha, com as seguintes exceções:\n",
    "\n",
    "- Números divisíveis por 3 deve aparecer como 'Fizz' ao invés do número;\n",
    "- Números divisíveis por 5 devem aparecer como 'Buzz' ao invés do número;\n",
    "- Números divisíveis por 3 e 5 devem aparecer como 'FizzBuzz' ao invés do número'."
   ]
  },
  {
   "cell_type": "markdown",
   "metadata": {
    "slideshow": {
     "slide_type": "subslide"
    }
   },
   "source": [
    "# Coding Dojo\n",
    "\n",
    "### [Analisando URLs](http://dojopuzzles.com/problemas/exibe/analisando-urls/)\n",
    "\n",
    "Dada uma URL, desenvolva um programa que indique se a URL é válida ou não e, caso seja válida, retorne as suas partes constituintes.\n",
    "\n",
    "Exemplos:\n",
    "- Entrada: http://www.google.com/mail/user=fulano\n",
    "- Saída:\n",
    "    - protocolo: http\n",
    "    - host: www\n",
    "    - domínio: google.com\n",
    "    - path: mail\n",
    "    - parâmetros: user=fulano\n",
    "- Entrada: ssh://fulano%senha@git.com/\n",
    "- Saída:\n",
    "    - protocolo: ssh\n",
    "    - usuário: fulano\n",
    "    - senha: senha\n",
    "    - dominio: git.com"
   ]
  },
  {
   "cell_type": "markdown",
   "metadata": {
    "slideshow": {
     "slide_type": "slide"
    }
   },
   "source": [
    "# Dicas\n",
    "\n",
    "## Gerais\n",
    "\n",
    "- Leia o [The Python Tutorial](https://docs.python.org/3.4/tutorial/index.html)\n",
    "- Leia, mesmo que por cima, [Module Index](https://docs.python.org/3/py-modindex.html), para saber o que existe na biblioteca padrão\n",
    "- Leia o [Guia de estilo (PEP 8)](http://www.python.org/peps/pep-0008.html)\n",
    "\n",
    "\n",
    "## Para o dia a dia\n",
    "\n",
    "- Faça testes rápidos no interpretador\n",
    "    - Use o `ipython` e não o `python`\n",
    "- Use um linter (pep8 ou flake8) no seu editor"
   ]
  },
  {
   "cell_type": "markdown",
   "metadata": {
    "slideshow": {
     "slide_type": "slide"
    }
   },
   "source": [
    "## Recursos\n",
    "\n",
    "- Sites:\n",
    "    - http://www.python.org\n",
    "    - http://www.python.org.br\n",
    "    - http://www.fullstackpython.com/\n",
    "    - http://awesome-python.com/\n",
    "    - [Visualize a execução do seu código com o \"Python Tutor\"](http://www.pythontutor.com/)\n",
    "\n",
    "- Newsletter:\n",
    "    - http://www.pythonweekly.com/\n",
    "\n",
    "- Podcasts:\n",
    "    - https://dbader.org/blog/ultimate-list-of-python-podcasts\n",
    "\n",
    "- Comunidade:\n",
    "    - Python Brasil: https://www.facebook.com/groups/python.brasil/?fref=ts\n",
    "    - Python Floripa: https://www.facebook.com/groups/python.floripa/?fref=ts\n",
    "\n",
    "- Encontros:\n",
    "    - 16º Encontro Python Floripa - 15/12: https://www.facebook.com/events/1658617024436911/\n",
    "\n",
    "- Vídeos:\n",
    "    - [Pra quem gosta de Orientação a Objetos](https://www.youtube.com/watch?v=HTLu2DFOdTg)\n",
    "    \n",
    "- Textos:\n",
    "    - [Uma introdução à programação funcional, usando Python como exemplo](https://maryrosecook.com/blog/post/a-practical-introduction-to-functional-programming)\n",
    "    - [10 erros muito comuns ao usar Python](https://www.toptal.com/python/top-10-mistakes-that-python-programmers-make)"
   ]
  },
  {
   "cell_type": "markdown",
   "metadata": {
    "slideshow": {
     "slide_type": "subslide"
    }
   },
   "source": [
    "# Recursos\n",
    "## Por que Python...\n",
    "\n",
    "- para educação?\n",
    "    - http://lorenabarba.com/blog/why-i-push-for-python/\n",
    "- para cientistas?\n",
    "    - https://www.stat.washington.edu/~hoytak/blog/whypython.html\n",
    "- para Web?\n",
    "    - https://www.fiveq.com/blog/programming/building-django-good-company/ (Django)\n",
    "    - http://www.sixfeetup.com/blog/why-we-choose-python\n",
    "- para qualquer pessoa?\n",
    "    - https://automatetheboringstuff.com"
   ]
  },
  {
   "cell_type": "markdown",
   "metadata": {
    "slideshow": {
     "slide_type": "slide"
    }
   },
   "source": [
    "### Referências\n",
    "\n",
    "- [The Hitchhiker’s Guide to Python!](http://docs.python-guide.org/)\n",
    "- [The Python Tutorial](https://docs.python.org/3.4/tutorial/index.html)\n",
    "- [Como aprender Python para quem já sabe outras linguagens](https://wiki.python.org/moin/MovingToPythonFromOtherLanguages)\n",
    "- [Python para Desenvolvedores](http://ricardoduarte.github.io/python-para-desenvolvedores/)\n",
    "- [Fazendo slides com Jupyter (+ Python + Markdown + reveal.js)](http://www.damian.oquanta.info/posts/make-your-slides-with-ipython.html)"
   ]
  },
  {
   "cell_type": "markdown",
   "metadata": {
    "collapsed": true,
    "slideshow": {
     "slide_type": "slide"
    }
   },
   "source": [
    "### Licença\n",
    "\n",
    "<center>\n",
    "\n",
    "<a rel=\"license\" href=\"http://creativecommons.org/licenses/by-sa/4.0/\"><img alt=\"Licença Creative Commons\" style=\"border-width:0\" src=\"https://i.creativecommons.org/l/by-sa/4.0/88x31.png\" /></a><br />\n",
    "O trabalho <span xmlns:dct=\"http://purl.org/dc/terms/\" property=\"dct:title\">Primeiros Passos com Python</span> de <span xmlns:cc=\"http://creativecommons.org/ns#\" property=\"cc:attributionName\">Matheus Braun Magrin</span> está licenciado com uma Licença <a rel=\"license\" href=\"http://creativecommons.org/licenses/by-sa/4.0/\">Creative Commons - Atribuição-CompartilhaIgual 4.0 Internacional</a>.\n",
    "<br /><br /><br /><br />\n",
    "O código usado para gerar essa apresentação está disponível em: <a href=\"https://github.com/braunmagrin/curso-python\">https://github.com/braunmagrin/curso-python</a>.\n",
    "</center>"
   ]
  },
  {
   "cell_type": "code",
   "execution_count": null,
   "metadata": {
    "collapsed": true,
    "slideshow": {
     "slide_type": "skip"
    }
   },
   "outputs": [],
   "source": []
  },
  {
   "cell_type": "code",
   "execution_count": 70,
   "metadata": {
    "collapsed": true,
    "slideshow": {
     "slide_type": "slide"
    }
   },
   "outputs": [],
   "source": [
    "import antigravity"
   ]
  },
  {
   "cell_type": "code",
   "execution_count": null,
   "metadata": {
    "collapsed": true,
    "slideshow": {
     "slide_type": "skip"
    }
   },
   "outputs": [],
   "source": []
  },
  {
   "cell_type": "code",
   "execution_count": null,
   "metadata": {
    "collapsed": true,
    "slideshow": {
     "slide_type": "skip"
    }
   },
   "outputs": [],
   "source": []
  },
  {
   "cell_type": "markdown",
   "metadata": {
    "slideshow": {
     "slide_type": "skip"
    }
   },
   "source": [
    "# Extras"
   ]
  },
  {
   "cell_type": "code",
   "execution_count": 25,
   "metadata": {
    "collapsed": false,
    "slideshow": {
     "slide_type": "skip"
    }
   },
   "outputs": [
    {
     "data": {
      "text/plain": [
       "['__class__',\n",
       " '__delattr__',\n",
       " '__dict__',\n",
       " '__dir__',\n",
       " '__doc__',\n",
       " '__eq__',\n",
       " '__format__',\n",
       " '__ge__',\n",
       " '__getattribute__',\n",
       " '__gt__',\n",
       " '__hash__',\n",
       " '__init__',\n",
       " '__le__',\n",
       " '__lt__',\n",
       " '__module__',\n",
       " '__ne__',\n",
       " '__new__',\n",
       " '__reduce__',\n",
       " '__reduce_ex__',\n",
       " '__repr__',\n",
       " '__setattr__',\n",
       " '__sizeof__',\n",
       " '__str__',\n",
       " '__subclasshook__',\n",
       " '__weakref__',\n",
       " 'aha']"
      ]
     },
     "execution_count": 25,
     "metadata": {},
     "output_type": "execute_result"
    }
   ],
   "source": [
    "dir(obj) # instrospecção"
   ]
  },
  {
   "cell_type": "code",
   "execution_count": 31,
   "metadata": {
    "collapsed": false,
    "slideshow": {
     "slide_type": "skip"
    }
   },
   "outputs": [
    {
     "data": {
      "text/plain": [
       "{'aha': <function __main__.<lambda>>}"
      ]
     },
     "execution_count": 31,
     "metadata": {},
     "output_type": "execute_result"
    }
   ],
   "source": [
    "obj.__dict__"
   ]
  }
 ],
 "metadata": {
  "celltoolbar": "Slideshow",
  "kernelspec": {
   "display_name": "Python 3",
   "language": "python",
   "name": "python3"
  },
  "language_info": {
   "codemirror_mode": {
    "name": "ipython",
    "version": 3
   },
   "file_extension": ".py",
   "mimetype": "text/x-python",
   "name": "python",
   "nbconvert_exporter": "python",
   "pygments_lexer": "ipython3",
   "version": "3.4.3"
  }
 },
 "nbformat": 4,
 "nbformat_minor": 1
}
